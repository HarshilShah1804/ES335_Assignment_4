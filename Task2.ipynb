{
 "cells": [
  {
   "cell_type": "code",
   "execution_count": 1,
   "metadata": {},
   "outputs": [],
   "source": [
    "import numpy as np\n",
    "import time\n",
    "from sklearn.datasets import make_blobs\n",
    "from sklearn.neighbors import NearestNeighbors, KDTree\n",
    "import matplotlib.pyplot as plt\n",
    "from scipy.spatial.distance import cdist"
   ]
  },
  {
   "cell_type": "code",
   "execution_count": 2,
   "metadata": {},
   "outputs": [],
   "source": [
    "class NaiveKNN:\n",
    "    def __init__(self, k=3):\n",
    "        self.k = k\n",
    "    \n",
    "    def fit(self, X_train, y_train):\n",
    "        self.X_train = X_train\n",
    "        self.y_train = y_train\n",
    "    \n",
    "    def predict(self, X_test):\n",
    "        distances = cdist(X_test, self.X_train)  # Compute pairwise distances\n",
    "        nearest_neighbors = np.argsort(distances, axis=1)[:, :self.k]\n",
    "        \n",
    "        # Return the majority class label of the nearest neighbors\n",
    "        majority_class = []\n",
    "        for neighbors in nearest_neighbors:\n",
    "            labels = self.y_train[neighbors]\n",
    "            majority_class.append(np.bincount(labels).argmax())\n",
    "        return np.array(majority_class)\n"
   ]
  },
  {
   "cell_type": "code",
   "execution_count": 3,
   "metadata": {},
   "outputs": [],
   "source": [
    "class KDTreeKNN:\n",
    "    def __init__(self, k=3):\n",
    "        self.k = k\n",
    "    \n",
    "    def fit(self, X_train, y_train):\n",
    "        self.tree = KDTree(X_train)\n",
    "        self.y_train = y_train\n",
    "    \n",
    "    def predict(self, X_test):\n",
    "        distances, indices = self.tree.query(X_test, k=self.k)\n",
    "        \n",
    "        # Return the majority class label of the nearest neighbors\n",
    "        majority_class = []\n",
    "        for idx in indices:\n",
    "            labels = self.y_train[idx]\n",
    "            majority_class.append(np.bincount(labels).argmax())\n",
    "        return np.array(majority_class)\n"
   ]
  },
  {
   "cell_type": "code",
   "execution_count": 4,
   "metadata": {},
   "outputs": [],
   "source": [
    "class LSHKNN:\n",
    "    def __init__(self, k=3, algorithm='ball_tree'):\n",
    "        self.k = k\n",
    "        self.algorithm = algorithm\n",
    "    \n",
    "    def fit(self, X_train, y_train):\n",
    "        self.nn = NearestNeighbors(n_neighbors=self.k, algorithm=self.algorithm)\n",
    "        self.nn.fit(X_train)\n",
    "        self.y_train = y_train\n",
    "    \n",
    "    def predict(self, X_test):\n",
    "        distances, indices = self.nn.kneighbors(X_test)\n",
    "        \n",
    "        # Return the majority class label of the nearest neighbors\n",
    "        majority_class = []\n",
    "        for idx in indices:\n",
    "            labels = self.y_train[idx]\n",
    "            majority_class.append(np.bincount(labels).argmax())\n",
    "        return np.array(majority_class)\n"
   ]
  }
 ],
 "metadata": {
  "kernelspec": {
   "display_name": "Python 3",
   "language": "python",
   "name": "python3"
  },
  "language_info": {
   "codemirror_mode": {
    "name": "ipython",
    "version": 3
   },
   "file_extension": ".py",
   "mimetype": "text/x-python",
   "name": "python",
   "nbconvert_exporter": "python",
   "pygments_lexer": "ipython3",
   "version": "3.11.4"
  }
 },
 "nbformat": 4,
 "nbformat_minor": 2
}
